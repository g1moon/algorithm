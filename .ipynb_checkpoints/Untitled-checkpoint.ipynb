{
 "cells": [
  {
   "cell_type": "code",
   "execution_count": 64,
   "metadata": {},
   "outputs": [
    {
     "ename": "NameError",
     "evalue": "name '__file__' is not defined",
     "output_type": "error",
     "traceback": [
      "\u001b[0;31m---------------------------------------------------------------------------\u001b[0m",
      "\u001b[0;31mNameError\u001b[0m                                 Traceback (most recent call last)",
      "\u001b[0;32m<ipython-input-64-74aa88a51a5f>\u001b[0m in \u001b[0;36m<module>\u001b[0;34m\u001b[0m\n\u001b[1;32m      1\u001b[0m \u001b[0;32mimport\u001b[0m \u001b[0mos\u001b[0m\u001b[0;34m\u001b[0m\u001b[0;34m\u001b[0m\u001b[0m\n\u001b[0;32m----> 2\u001b[0;31m \u001b[0mprint\u001b[0m \u001b[0;34m(\u001b[0m\u001b[0mos\u001b[0m\u001b[0;34m.\u001b[0m\u001b[0mpath\u001b[0m\u001b[0;34m.\u001b[0m\u001b[0mabspath\u001b[0m\u001b[0;34m(\u001b[0m\u001b[0m__file__\u001b[0m\u001b[0;34m)\u001b[0m\u001b[0;34m)\u001b[0m\u001b[0;34m\u001b[0m\u001b[0;34m\u001b[0m\u001b[0m\n\u001b[0m\u001b[1;32m      3\u001b[0m \u001b[0mfile_name\u001b[0m \u001b[0;34m=\u001b[0m \u001b[0mos\u001b[0m\u001b[0;34m.\u001b[0m\u001b[0mpath\u001b[0m\u001b[0;34m.\u001b[0m\u001b[0mabspath\u001b[0m\u001b[0;34m(\u001b[0m \u001b[0m__file__\u001b[0m \u001b[0;34m)\u001b[0m\u001b[0;34m\u001b[0m\u001b[0;34m\u001b[0m\u001b[0m\n\u001b[1;32m      4\u001b[0m \u001b[0mfile_name\u001b[0m \u001b[0;34m=\u001b[0m \u001b[0mfile_name\u001b[0m\u001b[0;34m.\u001b[0m\u001b[0msplit\u001b[0m\u001b[0;34m(\u001b[0m\u001b[0;34m'/'\u001b[0m\u001b[0;34m)\u001b[0m\u001b[0;34m[\u001b[0m\u001b[0;34m-\u001b[0m\u001b[0;36m1\u001b[0m\u001b[0;34m]\u001b[0m\u001b[0;34m\u001b[0m\u001b[0;34m\u001b[0m\u001b[0m\n\u001b[1;32m      5\u001b[0m \u001b[0;34m\u001b[0m\u001b[0m\n",
      "\u001b[0;31mNameError\u001b[0m: name '__file__' is not defined"
     ]
    }
   ],
   "source": [
    "import os \n",
    "print (os.path.abspath(__file__))\n",
    "file_name = os.path.abspath( __file__ )\n",
    "file_name = file_name.split('/')[-1]\n",
    "\n",
    "print(file_name)\n",
    "print(type(file_name))"
   ]
  },
  {
   "cell_type": "code",
   "execution_count": 97,
   "metadata": {},
   "outputs": [
    {
     "data": {
      "text/plain": [
       "[\"'''\\n\",\n",
       " \"Student name: Jian Lee<이지안>',\\n\",\n",
       " 'Student number:12184895,\\n',\n",
       " 'Work number:G0402m\\n']"
      ]
     },
     "execution_count": 97,
     "metadata": {},
     "output_type": "execute_result"
    }
   ],
   "source": [
    "file_name = 'test.py'\n",
    "\n",
    "f = open(file_name, 'r')\n",
    "file_text = []\n",
    "\n",
    "for idx, i in enumerate(f):\n",
    "    \n",
    "    file_text.append(i)\n",
    "    \n",
    "    if idx==4:break\n",
    "    \n",
    "f.close()\n",
    "    \n",
    "    \n",
    "file_text = file_text[:-1]\n",
    "file_text"
   ]
  },
  {
   "cell_type": "code",
   "execution_count": 154,
   "metadata": {},
   "outputs": [
    {
     "data": {
      "text/plain": [
       "[\"Student name: Jian Lee<이지안>',\\n\",\n",
       " 'Student number:12184895,\\n',\n",
       " 'Work number:G0402m\\n']"
      ]
     },
     "execution_count": 154,
     "metadata": {},
     "output_type": "execute_result"
    }
   ],
   "source": [
    "file_name = 'test.py'\n",
    "\n",
    "f = open(file_name, 'r')\n",
    "file_text = []\n",
    "\n",
    "st = \"a\"\n",
    "for idx, i in enumerate(f):\n",
    "    \n",
    "    if idx ==0: \n",
    "        continue\n",
    "    \n",
    "    file_text.append(i)\n",
    "    \n",
    "    \n",
    "    if idx==4:break\n",
    "    \n",
    "f.close()\n",
    "    \n",
    "    \n",
    "file_text = file_text[:-1]\n",
    "\n",
    "file_text[0] = file_text[0][0:-3]\n",
    "file_text[1] = file_text[1][:-4]\n",
    "file_text[2] = file_text[2][:-1]"
   ]
  },
  {
   "cell_type": "code",
   "execution_count": 155,
   "metadata": {},
   "outputs": [],
   "source": []
  },
  {
   "cell_type": "code",
   "execution_count": 157,
   "metadata": {},
   "outputs": [
    {
     "data": {
      "text/plain": [
       "True"
      ]
     },
     "execution_count": 157,
     "metadata": {},
     "output_type": "execute_result"
    }
   ],
   "source": [
    "file_tex == file_text1"
   ]
  },
  {
   "cell_type": "code",
   "execution_count": 185,
   "metadata": {},
   "outputs": [],
   "source": [
    "file_text = ['Student name: Jian Lee<이지안>',\n",
    " 'Student number:12184895',\n",
    " 'Work number:G0402m']\n"
   ]
  },
  {
   "cell_type": "code",
   "execution_count": 23,
   "metadata": {},
   "outputs": [
    {
     "data": {
      "text/plain": [
       "['Student name: Jian Lee<이지안>',\n",
       " 'Student number:12184895',\n",
       " 'Work number:G0402m']"
      ]
     },
     "execution_count": 23,
     "metadata": {},
     "output_type": "execute_result"
    }
   ],
   "source": [
    "file_text"
   ]
  },
  {
   "cell_type": "code",
   "execution_count": 61,
   "metadata": {},
   "outputs": [
    {
     "data": {
      "text/plain": [
       "100"
      ]
     },
     "execution_count": 61,
     "metadata": {},
     "output_type": "execute_result"
    }
   ],
   "source": [
    "\n",
    "file_name = 'G0402m895ja' \n",
    "\n",
    "#------------------\n",
    "f = open(file_name, 'r')\n",
    "file_text = []\n",
    "\n",
    "for idx, i in enumerate(f):\n",
    "    if idx ==0:\n",
    "        a = i[1:]\n",
    "    else:\n",
    "        a = i\n",
    "        \n",
    "    file_text.append(a.strip())\n",
    "\n",
    "file_text = file_text[:-1]\n",
    "\n",
    "\n",
    "\n",
    "def CheckFile():\n",
    "    score = 0\n",
    "    \n",
    "    #1 파일명이 G로 시작하는지\n",
    "    if file_name[0] == 'G':\n",
    "        score += 10\n",
    "#         print('1번')\n",
    "\n",
    "    #2 파일명의 날짜부분이 옳은지 \n",
    "    if file_name[1:5] == '0402':\n",
    "        score += 10\n",
    "#         print('2번')\n",
    "\n",
    "\n",
    "    #3 파일명의 끝이 영문 소문자인지\n",
    "    if file_name.split('.')[0][-1].islower():\n",
    "        score += 10\n",
    "#         print('3번')\n",
    "\n",
    "\n",
    "    #4 파일명의 학번이 3자리 숫자인지\n",
    "    if file_name[-5:-2].isdigit() and len(file_name[-8:-5])==3:\n",
    "        score += 10\n",
    "#         print('4번')\n",
    "\n",
    "    #5 파일명의 이름이 2개 영문 소문자인지\n",
    "    if file_name[-2:].islower() and len(file_name[-5:-3])==2:\n",
    "        score += 10\n",
    "#         print('5번')\n",
    "\n",
    "    #6 \n",
    "    if file_text[2].split(':')[-1] == file_name[0:6]:\n",
    "        score += 10\n",
    "#         print('6번')\n",
    "\n",
    "    #7 파일내에 적혀있는 student name의 첫번째 영문 이니셜이// 파일명의 이름과 일치하는지\n",
    "    if file_text[0].split(':')[-1].strip()[0].lower() == file_name[-2]:\n",
    "        score += 10\n",
    "#         print('7번')\n",
    "\n",
    "\n",
    "    #8 파일 내에 적혀있는 student number와 파일명의 학번이 일치하는지\n",
    "    if file_text[1].split(':')[1][-3:] == file_name[-5:-2]:\n",
    "        score += 10\n",
    "#         print('8번')\n",
    "\n",
    "    score += 20\n",
    "\n",
    "    return score\n",
    "\n",
    "CheckFile()\n",
    "\n",
    "\n",
    "\n",
    "\n",
    "    \n",
    "    \n",
    "\n",
    "    \n",
    "\n"
   ]
  },
  {
   "cell_type": "code",
   "execution_count": 54,
   "metadata": {},
   "outputs": [
    {
     "data": {
      "text/plain": [
       "'895'"
      ]
     },
     "execution_count": 54,
     "metadata": {},
     "output_type": "execute_result"
    }
   ],
   "source": [
    "file_text[1].split(':')[1][-3:]"
   ]
  },
  {
   "cell_type": "code",
   "execution_count": 59,
   "metadata": {},
   "outputs": [
    {
     "data": {
      "text/plain": [
       "'895'"
      ]
     },
     "execution_count": 59,
     "metadata": {},
     "output_type": "execute_result"
    }
   ],
   "source": [
    "file_name[-5:-2]"
   ]
  },
  {
   "cell_type": "code",
   "execution_count": 50,
   "metadata": {},
   "outputs": [
    {
     "data": {
      "text/plain": [
       "True"
      ]
     },
     "execution_count": 50,
     "metadata": {},
     "output_type": "execute_result"
    }
   ],
   "source": [
    "file_text[0].split(':')[-1].strip()[0].lower() == file_name[-2]\n"
   ]
  },
  {
   "cell_type": "code",
   "execution_count": 47,
   "metadata": {},
   "outputs": [
    {
     "data": {
      "text/plain": [
       "'ja'"
      ]
     },
     "execution_count": 47,
     "metadata": {},
     "output_type": "execute_result"
    }
   ],
   "source": [
    "file_name[-2:]"
   ]
  },
  {
   "cell_type": "code",
   "execution_count": 197,
   "metadata": {},
   "outputs": [],
   "source": [
    "file_name = 'test.py'\n",
    "\n",
    "#------------------\n",
    "f = open(file_name, 'r')\n",
    "file_text = []\n",
    "\n",
    "for idx, i in enumerate(f):\n",
    "    \n",
    "    if idx ==0: \n",
    "        continue\n",
    "    \n",
    "    file_text.append(i)\n",
    "    \n",
    "    \n",
    "    if idx==4:break\n",
    "    \n",
    "f.close()"
   ]
  },
  {
   "cell_type": "code",
   "execution_count": 198,
   "metadata": {},
   "outputs": [],
   "source": [
    "file_text[0] = file_text[0][0:-3]\n",
    "file_text[1] = file_text[1][:-2]\n",
    "file_text[2] = file_text[2][:-1]\n",
    "\n",
    "file_text = file_text[:-1]"
   ]
  },
  {
   "cell_type": "code",
   "execution_count": 201,
   "metadata": {},
   "outputs": [
    {
     "data": {
      "text/plain": [
       "True"
      ]
     },
     "execution_count": 201,
     "metadata": {},
     "output_type": "execute_result"
    }
   ],
   "source": [
    "file_text == file_text1"
   ]
  },
  {
   "cell_type": "code",
   "execution_count": 200,
   "metadata": {},
   "outputs": [
    {
     "data": {
      "text/plain": [
       "['Student name: Jian Lee<이지안>',\n",
       " 'Student number:12184895',\n",
       " 'Work number:G0402m']"
      ]
     },
     "execution_count": 200,
     "metadata": {},
     "output_type": "execute_result"
    }
   ],
   "source": [
    "file_text1"
   ]
  },
  {
   "cell_type": "code",
   "execution_count": null,
   "metadata": {},
   "outputs": [],
   "source": []
  },
  {
   "cell_type": "code",
   "execution_count": 189,
   "metadata": {},
   "outputs": [
    {
     "data": {
      "text/plain": [
       "'Student number:12184895'"
      ]
     },
     "execution_count": 189,
     "metadata": {},
     "output_type": "execute_result"
    }
   ],
   "source": [
    "file_text1[1]"
   ]
  },
  {
   "cell_type": "code",
   "execution_count": 188,
   "metadata": {},
   "outputs": [
    {
     "data": {
      "text/plain": [
       "'Student number:121848'"
      ]
     },
     "execution_count": 188,
     "metadata": {},
     "output_type": "execute_result"
    }
   ],
   "source": [
    "file_text[1]"
   ]
  },
  {
   "cell_type": "code",
   "execution_count": 210,
   "metadata": {},
   "outputs": [
    {
     "name": "stdout",
     "output_type": "stream",
     "text": [
      "3번\n",
      "5번\n",
      "40\n"
     ]
    },
    {
     "data": {
      "text/plain": [
       "40"
      ]
     },
     "execution_count": 210,
     "metadata": {},
     "output_type": "execute_result"
    }
   ],
   "source": [
    "'''\n",
    "Student name: Jian Lee<이지안>',\n",
    "Student number:12184895,\n",
    "Work number:G0402m\n",
    "'''\n",
    "\n",
    "file_name = 'test.py'\n",
    "\n",
    "#------------------\n",
    "f = open(file_name, 'r')\n",
    "file_text = []\n",
    "\n",
    "for idx, i in enumerate(f):\n",
    "    \n",
    "    if idx ==0: \n",
    "        continue\n",
    "    \n",
    "    file_text.append(i)\n",
    "    \n",
    "    \n",
    "    if idx==4:break\n",
    "    \n",
    "f.close()\n",
    "    \n",
    "    \n",
    "file_text[0] = file_text[0][0:-3]\n",
    "file_text[1] = file_text[1][:-2]\n",
    "file_text[2] = file_text[2][:-1]\n",
    "\n",
    "file_text = file_text[:-1]\n",
    "#----------------------------\n",
    "file_text = ['Student name: Jian Lee<이지안>',\n",
    " 'Student number:12184895',\n",
    " 'Work number:G0402m']\n",
    "\n",
    "\n",
    "def CheckFile():\n",
    "    score = 0\n",
    "    \n",
    "    #1 파일명이 G로 시작하는지\n",
    "    if file_name[0] == 'G':\n",
    "        score += 10\n",
    "        print('1번')\n",
    "\n",
    "    #2 파일명의 날짜부분이 옳은지 \n",
    "    if file_name[1:5] == '0402':\n",
    "        score += 10\n",
    "        print('2번')\n",
    "\n",
    "\n",
    "    #3 파일명의 끝이 영문 소문자인지\n",
    "    if file_name.split('.')[0][-1].islower():\n",
    "        score += 10\n",
    "        print('3번')\n",
    "\n",
    "\n",
    "    #4 파일명의 학번이 3자리 숫자인지\n",
    "    if file_name[-5:-2].isdigit() and len(file_name[-8:-5])==3:\n",
    "        score += 10\n",
    "        print('4번')\n",
    "\n",
    "    #5 파일명의 이름이 2개 영문 소문자인지\n",
    "    if file_name[-2:].islower() and len(file_name[-5:-3])==2:\n",
    "        score += 10\n",
    "        print('5번')\n",
    "\n",
    "    #6 \n",
    "    if file_text[2].split(':')[-1] == file_name[0:6]:\n",
    "        score += 10\n",
    "        print('6번')\n",
    "\n",
    "    #7 파일내에 적혀있는 student name의 첫번째 영문 이니셜이// 파일명의 이름과 일치하는지\n",
    "    if file_text[0].split(':')[-1].strip()[0].lower() == file_name[-2]:\n",
    "        score += 10\n",
    "        print('7번')\n",
    "\n",
    "\n",
    "    #8 파일 내에 적혀있는 student number와 파일명의 학번이 일치하는지\n",
    "    if file_text[1].split(':')[1][-3:] == file_name[-5:-2]:\n",
    "        score += 10\n",
    "        print('8번')\n",
    "\n",
    "    score += 20\n",
    "    print(score)\n",
    "\n",
    "    return score\n",
    "\n",
    "CheckFile()\n",
    "\n",
    "\n",
    "\n",
    "\n",
    "    \n",
    "    \n",
    "\n",
    "    \n",
    "\n"
   ]
  },
  {
   "cell_type": "code",
   "execution_count": 159,
   "metadata": {},
   "outputs": [
    {
     "data": {
      "text/plain": [
       "'‘'"
      ]
     },
     "execution_count": 159,
     "metadata": {},
     "output_type": "execute_result"
    }
   ],
   "source": [
    "file_text[2].split(':')[-1] "
   ]
  },
  {
   "cell_type": "code",
   "execution_count": 160,
   "metadata": {},
   "outputs": [
    {
     "data": {
      "text/plain": [
       "'G0402m'"
      ]
     },
     "execution_count": 160,
     "metadata": {},
     "output_type": "execute_result"
    }
   ],
   "source": [
    "file_name[0:6]"
   ]
  },
  {
   "cell_type": "code",
   "execution_count": 206,
   "metadata": {},
   "outputs": [
    {
     "data": {
      "text/plain": [
       "True"
      ]
     },
     "execution_count": 206,
     "metadata": {},
     "output_type": "execute_result"
    }
   ],
   "source": [
    "file_text == file_text1"
   ]
  },
  {
   "cell_type": "code",
   "execution_count": 212,
   "metadata": {},
   "outputs": [
    {
     "name": "stdout",
     "output_type": "stream",
     "text": [
      "40\n"
     ]
    },
    {
     "data": {
      "text/plain": [
       "40"
      ]
     },
     "execution_count": 212,
     "metadata": {},
     "output_type": "execute_result"
    }
   ],
   "source": [
    "def CheckFile():\n",
    "    score = 0\n",
    "    \n",
    "    #1 파일명이 G로 시작하는지\n",
    "    if file_name[0] == 'G':\n",
    "        score += 10\n",
    "#         print('1번')\n",
    "\n",
    "    #2 파일명의 날짜부분이 옳은지 \n",
    "    if file_name[1:5] == '0402':\n",
    "        score += 10\n",
    "#         print('2번')\n",
    "\n",
    "\n",
    "    #3 파일명의 끝이 영문 소문자인지\n",
    "    if file_name.split('.')[0][-1].islower():\n",
    "        score += 10\n",
    "#         print('3번')\n",
    "\n",
    "\n",
    "    #4 파일명의 학번이 3자리 숫자인지\n",
    "    if file_name[-5:-2].isdigit() and len(file_name[-8:-5])==3:\n",
    "        score += 10\n",
    "#         print('4번')\n",
    "\n",
    "    #5 파일명의 이름이 2개 영문 소문자인지\n",
    "    if file_name[-2:].islower() and len(file_name[-5:-3])==2:\n",
    "        score += 10\n",
    "#         print('5번')\n",
    "\n",
    "    #6 \n",
    "    if file_text[2].split(':')[-1] == file_name[0:6]:\n",
    "        score += 10\n",
    "#         print('6번')\n",
    "\n",
    "    #7 파일내에 적혀있는 student name의 첫번째 영문 이니셜이// 파일명의 이름과 일치하는지\n",
    "    if file_text[0].split(':')[-1].strip()[0].lower() == file_name[-2]:\n",
    "        score += 10\n",
    "#         print('7번')\n",
    "\n",
    "\n",
    "    #8 파일 내에 적혀있는 student number와 파일명의 학번이 일치하는지\n",
    "    if file_text[1].split(':')[1][-3:] == file_name[-5:-2]:\n",
    "        score += 10\n",
    "#         print('8번')\n",
    "\n",
    "    score += 20\n",
    "    print(score)\n",
    "\n",
    "    return score\n",
    "\n",
    "CheckFile()"
   ]
  },
  {
   "cell_type": "code",
   "execution_count": null,
   "metadata": {},
   "outputs": [],
   "source": []
  },
  {
   "cell_type": "code",
   "execution_count": null,
   "metadata": {},
   "outputs": [],
   "source": []
  },
  {
   "cell_type": "code",
   "execution_count": null,
   "metadata": {},
   "outputs": [],
   "source": []
  },
  {
   "cell_type": "code",
   "execution_count": null,
   "metadata": {},
   "outputs": [],
   "source": []
  },
  {
   "cell_type": "code",
   "execution_count": 217,
   "metadata": {},
   "outputs": [
    {
     "name": "stdout",
     "output_type": "stream",
     "text": [
      "100\n"
     ]
    },
    {
     "data": {
      "text/plain": [
       "100"
      ]
     },
     "execution_count": 217,
     "metadata": {},
     "output_type": "execute_result"
    }
   ],
   "source": [
    "\n",
    "file_name = 'G0402m895ja' \n",
    "\n",
    "#------------------\n",
    "f = open(file_name, 'r')\n",
    "file_text = []\n",
    "\n",
    "for idx, i in enumerate(f):\n",
    "    if idx ==0:\n",
    "        a = i[1:]\n",
    "    else:\n",
    "        a = i\n",
    "        \n",
    "    file_text.append(a.strip())\n",
    "\n",
    "file_text = file_text[:-1]\n",
    "\n",
    "\n",
    "\n",
    "def CheckFile():\n",
    "    score = 0\n",
    "    \n",
    "    #1 파일명이 G로 시작하는지\n",
    "    if file_name[0] == 'G':\n",
    "        score += 10\n",
    "#         print('1번')\n",
    "\n",
    "    #2 파일명의 날짜부분이 옳은지 \n",
    "    if file_name[1:5] == '0402':\n",
    "        score += 10\n",
    "#         print('2번')\n",
    "\n",
    "\n",
    "    #3 파일명의 끝이 영문 소문자인지\n",
    "    if file_name.split('.')[0][-1].islower():\n",
    "        score += 10\n",
    "#         print('3번')\n",
    "\n",
    "\n",
    "    #4 파일명의 학번이 3자리 숫자인지\n",
    "    if file_name[-5:-2].isdigit() and len(file_name[-8:-5])==3:\n",
    "        score += 10\n",
    "#         print('4번')\n",
    "\n",
    "    #5 파일명의 이름이 2개 영문 소문자인지\n",
    "    if file_name[-2:].islower() and len(file_name[-5:-3])==2:\n",
    "        score += 10\n",
    "#         print('5번')\n",
    "\n",
    "    #6 \n",
    "    if file_text[2].split(':')[-1] == file_name[0:6]:\n",
    "        score += 10\n",
    "#         print('6번')\n",
    "\n",
    "    #7 파일내에 적혀있는 student name의 첫번째 영문 이니셜이// 파일명의 이름과 일치하는지\n",
    "    if file_text[0].split(':')[-1].strip()[0].lower() == file_name[-2]:\n",
    "        score += 10\n",
    "#         print('7번')\n",
    "\n",
    "\n",
    "    #8 파일 내에 적혀있는 student number와 파일명의 학번이 일치하는지\n",
    "    if file_text[1].split(':')[1][-3:] == file_name[-5:-2]:\n",
    "        score += 10\n",
    "#         print('8번')\n",
    "\n",
    "    score += 20\n",
    "    print(score)\n",
    "\n",
    "    return score\n",
    "\n",
    "CheckFile()\n",
    "\n",
    "\n",
    "\n",
    "\n",
    "    \n",
    "    \n",
    "\n",
    "    \n",
    "\n"
   ]
  },
  {
   "cell_type": "code",
   "execution_count": 214,
   "metadata": {},
   "outputs": [
    {
     "data": {
      "text/plain": [
       "['Student name: Jian Lee<이지안>',\n",
       " 'Student number:12184895',\n",
       " 'Work number:G0402m']"
      ]
     },
     "execution_count": 214,
     "metadata": {},
     "output_type": "execute_result"
    }
   ],
   "source": [
    "file_text "
   ]
  },
  {
   "cell_type": "code",
   "execution_count": 215,
   "metadata": {},
   "outputs": [],
   "source": [
    "file_name = 'test.py'\n",
    "\n",
    "#------------------\n",
    "f = open(file_name, 'r')\n",
    "file_text = []\n",
    "\n",
    "for idx, i in enumerate(f):\n",
    "    \n",
    "    if idx ==0: \n",
    "        continue\n",
    "    \n",
    "    file_text.append(i)\n",
    "    \n",
    "    \n",
    "    if idx==4:break\n",
    "    \n",
    "f.close()\n",
    "    \n",
    "    \n",
    "file_text[0] = file_text[0][0:-3]\n",
    "file_text[1] = file_text[1][:-2]\n",
    "file_text[2] = file_text[2][:-1]\n",
    "\n",
    "file_text = file_text[:-1]"
   ]
  },
  {
   "cell_type": "code",
   "execution_count": 216,
   "metadata": {},
   "outputs": [
    {
     "data": {
      "text/plain": [
       "['Student name: Jian Lee<이지안>',\n",
       " 'Student number:12184895',\n",
       " 'Work number:G0402m']"
      ]
     },
     "execution_count": 216,
     "metadata": {},
     "output_type": "execute_result"
    }
   ],
   "source": [
    "file_text "
   ]
  },
  {
   "cell_type": "code",
   "execution_count": null,
   "metadata": {},
   "outputs": [],
   "source": []
  },
  {
   "cell_type": "code",
   "execution_count": 229,
   "metadata": {},
   "outputs": [
    {
     "ename": "SyntaxError",
     "evalue": "invalid syntax (<ipython-input-229-1fec687dde61>, line 1)",
     "output_type": "error",
     "traceback": [
      "\u001b[0;36m  File \u001b[0;32m\"<ipython-input-229-1fec687dde61>\"\u001b[0;36m, line \u001b[0;32m1\u001b[0m\n\u001b[0;31m    import os print os.path.abspath( __file__ )\u001b[0m\n\u001b[0m                  ^\u001b[0m\n\u001b[0;31mSyntaxError\u001b[0m\u001b[0;31m:\u001b[0m invalid syntax\n"
     ]
    }
   ],
   "source": []
  },
  {
   "cell_type": "code",
   "execution_count": null,
   "metadata": {},
   "outputs": [],
   "source": []
  },
  {
   "cell_type": "code",
   "execution_count": 230,
   "metadata": {},
   "outputs": [
    {
     "name": "stdout",
     "output_type": "stream",
     "text": [
      "1번\n",
      "2번\n",
      "3번\n",
      "4번\n",
      "5번\n",
      "6번\n",
      "7번\n",
      "90\n"
     ]
    },
    {
     "data": {
      "text/plain": [
       "90"
      ]
     },
     "execution_count": 230,
     "metadata": {},
     "output_type": "execute_result"
    }
   ],
   "source": [
    "'''\n",
    "Student name: Jian Lee<이지안>',\n",
    "Student number:12184895,\n",
    "Work number:G0402m\n",
    "'''\n",
    "\n",
    "file_name = 'G0402m895ja.py'\n",
    "\n",
    "#------------------\n",
    "f = open(file_name, 'r')\n",
    "file_text = []\n",
    "\n",
    "for idx, i in enumerate(f):\n",
    "    \n",
    "    if idx ==0: \n",
    "        continue\n",
    "    \n",
    "    file_text.append(i)\n",
    "    \n",
    "    \n",
    "    if idx==4:break\n",
    "    \n",
    "f.close()\n",
    "    \n",
    "    \n",
    "file_text[0] = file_text[0][0:-3]\n",
    "file_text[1] = file_text[1][:-4]\n",
    "file_text[2] = file_text[2][:-1]\n",
    "\n",
    "file_text = file_text[:-1]\n",
    "file_name = file_name[:-3]\n",
    "#----------------------------\n",
    "\n",
    "def CheckFile():\n",
    "    score = 0\n",
    "    \n",
    "    #1 파일명이 G로 시작하는지\n",
    "    if file_name[0] == 'G':\n",
    "        score += 10\n",
    "        print('1번')\n",
    "\n",
    "    #2 파일명의 날짜부분이 옳은지 \n",
    "    if file_name[1:5] == '0402':\n",
    "        score += 10\n",
    "        print('2번')\n",
    "\n",
    "\n",
    "    #3 파일명의 끝이 영문 소문자인지\n",
    "    if file_name.split('.')[0][-1].islower():\n",
    "        score += 10\n",
    "        print('3번')\n",
    "\n",
    "\n",
    "    #4 파일명의 학번이 3자리 숫자인지\n",
    "    if file_name[-5:-2].isdigit() and len(file_name[-8:-5])==3:\n",
    "        score += 10\n",
    "        print('4번')\n",
    "\n",
    "    #5 파일명의 이름이 2개 영문 소문자인지\n",
    "    if file_name[-2:].islower() and len(file_name[-5:-3])==2:\n",
    "        score += 10\n",
    "        print('5번')\n",
    "\n",
    "    #6 \n",
    "    if file_text[2].split(':')[-1] == file_name[0:6]:\n",
    "        score += 10\n",
    "        print('6번')\n",
    "\n",
    "    #7 파일내에 적혀있는 student name의 첫번째 영문 이니셜이// 파일명의 이름과 일치하는지\n",
    "    if file_text[0].split(':')[-1].strip()[0].lower() == file_name[-2]:\n",
    "        score += 10\n",
    "        print('7번')\n",
    "\n",
    "\n",
    "    #8 파일 내에 적혀있는 student number와 파일명의 학번이 일치하는지\n",
    "    if file_text[1].split(':')[1][-3:] == file_name[-5:-2]:\n",
    "        score += 10\n",
    "        print('8번')\n",
    "\n",
    "    score += 20\n",
    "    print(score)\n",
    "\n",
    "    return score\n",
    "\n",
    "CheckFile()\n",
    "\n",
    "\n",
    "\n",
    "\n",
    "    \n",
    "    \n",
    "\n",
    "    \n",
    "\n"
   ]
  },
  {
   "cell_type": "code",
   "execution_count": 228,
   "metadata": {},
   "outputs": [
    {
     "data": {
      "text/plain": [
       "'848'"
      ]
     },
     "execution_count": 228,
     "metadata": {},
     "output_type": "execute_result"
    }
   ],
   "source": [
    "file_text[1].split(':')[1][-3:] "
   ]
  },
  {
   "cell_type": "code",
   "execution_count": 227,
   "metadata": {},
   "outputs": [
    {
     "data": {
      "text/plain": [
       "'895'"
      ]
     },
     "execution_count": 227,
     "metadata": {},
     "output_type": "execute_result"
    }
   ],
   "source": [
    "file_name[-5:-2]"
   ]
  },
  {
   "cell_type": "code",
   "execution_count": null,
   "metadata": {},
   "outputs": [],
   "source": []
  },
  {
   "cell_type": "code",
   "execution_count": null,
   "metadata": {},
   "outputs": [],
   "source": []
  },
  {
   "cell_type": "code",
   "execution_count": null,
   "metadata": {},
   "outputs": [],
   "source": []
  },
  {
   "cell_type": "code",
   "execution_count": 233,
   "metadata": {},
   "outputs": [
    {
     "name": "stdout",
     "output_type": "stream",
     "text": [
      "1번\n",
      "2번\n",
      "3번\n",
      "5번\n",
      "6번\n",
      "70\n"
     ]
    },
    {
     "data": {
      "text/plain": [
       "70"
      ]
     },
     "execution_count": 233,
     "metadata": {},
     "output_type": "execute_result"
    }
   ],
   "source": [
    "'''\n",
    "Student name: Jian Lee<이지안>',\n",
    "Student number:12184895,\n",
    "Work number:G0402m\n",
    "'''\n",
    "\n",
    "file_name = 'G0402m895ja.py'\n",
    "\n",
    "\n",
    "# import os \n",
    "# os.path.abspath( __file__ ).split('/')[-1]\n",
    "# file_name = os.path.abspath( __file__ ).split('/')[-1]\n",
    "\n",
    "# #------------------\n",
    "# f = open(file_name, 'r')\n",
    "# file_text = []\n",
    "\n",
    "# for idx, i in enumerate(f):\n",
    "    \n",
    "#     if idx ==0: \n",
    "#         continue\n",
    "    \n",
    "#     file_text.append(i)\n",
    "    \n",
    "    \n",
    "#     if idx==4:break\n",
    "    \n",
    "# f.close()\n",
    "    \n",
    "    \n",
    "# file_text[0] = file_text[0][0:-3]\n",
    "# file_text[1] = file_text[1][:-4]\n",
    "# file_text[2] = file_text[2][:-1]\n",
    "\n",
    "# file_text = file_text[:-1]\n",
    "# file_name = file_name[:-3]\n",
    "# #----------------------------\n",
    "\n",
    "def CheckFile():\n",
    "    score = 0\n",
    "    \n",
    "    #1 파일명이 G로 시작하는지\n",
    "    if file_name[0] == 'G':\n",
    "        score += 10\n",
    "        print('1번')\n",
    "\n",
    "    #2 파일명의 날짜부분이 옳은지 \n",
    "    if file_name[1:5] == '0402':\n",
    "        score += 10\n",
    "        print('2번')\n",
    "\n",
    "\n",
    "    #3 파일명의 끝이 영문 소문자인지\n",
    "    if file_name.split('.')[0][-1].islower():\n",
    "        score += 10\n",
    "        print('3번')\n",
    "\n",
    "\n",
    "    #4 파일명의 학번이 3자리 숫자인지\n",
    "    if file_name[-5:-2].isdigit() and len(file_name[-8:-5])==3:\n",
    "        score += 10\n",
    "        print('4번')\n",
    "\n",
    "    #5 파일명의 이름이 2개 영문 소문자인지\n",
    "    if file_name[-2:].islower() and len(file_name[-5:-3])==2:\n",
    "        score += 10\n",
    "        print('5번')\n",
    "\n",
    "    #6 \n",
    "    if file_text[2].split(':')[-1] == file_name[0:6]:\n",
    "        score += 10\n",
    "        print('6번')\n",
    "\n",
    "    #7 파일내에 적혀있는 student name의 첫번째 영문 이니셜이// 파일명의 이름과 일치하는지\n",
    "    if file_text[0].split(':')[-1].strip()[0].lower() == file_name[-2]:\n",
    "        score += 10\n",
    "        print('7번')\n",
    "\n",
    "\n",
    "    #8 파일 내에 적혀있는 student number와 파일명의 학번이 일치하는지\n",
    "    if file_text[1].split(':')[1][-3:] == file_name[-5:-2]:\n",
    "        score += 10\n",
    "        print('8번')\n",
    "\n",
    "    score += 20\n",
    "    print(score)\n",
    "\n",
    "    return score\n",
    "\n",
    "CheckFile()\n",
    "\n",
    "\n",
    "\n",
    "\n",
    "    \n",
    "    \n",
    "\n",
    "    \n",
    "\n"
   ]
  },
  {
   "cell_type": "code",
   "execution_count": null,
   "metadata": {},
   "outputs": [],
   "source": []
  },
  {
   "cell_type": "code",
   "execution_count": null,
   "metadata": {},
   "outputs": [],
   "source": []
  },
  {
   "cell_type": "code",
   "execution_count": 236,
   "metadata": {},
   "outputs": [
    {
     "name": "stdout",
     "output_type": "stream",
     "text": [
      "1번\n",
      "2번\n",
      "3번\n",
      "4번\n",
      "5번\n"
     ]
    },
    {
     "ename": "IndexError",
     "evalue": "list index out of range",
     "output_type": "error",
     "traceback": [
      "\u001b[0;31m---------------------------------------------------------------------------\u001b[0m",
      "\u001b[0;31mIndexError\u001b[0m                                Traceback (most recent call last)",
      "\u001b[0;32m<ipython-input-236-b2e5af34fadd>\u001b[0m in \u001b[0;36m<module>\u001b[0;34m\u001b[0m\n\u001b[1;32m     92\u001b[0m     \u001b[0;32mreturn\u001b[0m \u001b[0mscore\u001b[0m\u001b[0;34m\u001b[0m\u001b[0;34m\u001b[0m\u001b[0m\n\u001b[1;32m     93\u001b[0m \u001b[0;34m\u001b[0m\u001b[0m\n\u001b[0;32m---> 94\u001b[0;31m \u001b[0mCheckFile\u001b[0m\u001b[0;34m(\u001b[0m\u001b[0;34m)\u001b[0m\u001b[0;34m\u001b[0m\u001b[0;34m\u001b[0m\u001b[0m\n\u001b[0m\u001b[1;32m     95\u001b[0m \u001b[0;34m\u001b[0m\u001b[0m\n\u001b[1;32m     96\u001b[0m \u001b[0;34m\u001b[0m\u001b[0m\n",
      "\u001b[0;32m<ipython-input-236-b2e5af34fadd>\u001b[0m in \u001b[0;36mCheckFile\u001b[0;34m()\u001b[0m\n\u001b[1;32m     72\u001b[0m \u001b[0;34m\u001b[0m\u001b[0m\n\u001b[1;32m     73\u001b[0m     \u001b[0;31m#6\u001b[0m\u001b[0;34m\u001b[0m\u001b[0;34m\u001b[0m\u001b[0;34m\u001b[0m\u001b[0m\n\u001b[0;32m---> 74\u001b[0;31m     \u001b[0;32mif\u001b[0m \u001b[0mfile_text\u001b[0m\u001b[0;34m[\u001b[0m\u001b[0;36m2\u001b[0m\u001b[0;34m]\u001b[0m\u001b[0;34m.\u001b[0m\u001b[0msplit\u001b[0m\u001b[0;34m(\u001b[0m\u001b[0;34m':'\u001b[0m\u001b[0;34m)\u001b[0m\u001b[0;34m[\u001b[0m\u001b[0;34m-\u001b[0m\u001b[0;36m1\u001b[0m\u001b[0;34m]\u001b[0m \u001b[0;34m==\u001b[0m \u001b[0mfile_name\u001b[0m\u001b[0;34m[\u001b[0m\u001b[0;36m0\u001b[0m\u001b[0;34m:\u001b[0m\u001b[0;36m6\u001b[0m\u001b[0;34m]\u001b[0m\u001b[0;34m:\u001b[0m\u001b[0;34m\u001b[0m\u001b[0;34m\u001b[0m\u001b[0m\n\u001b[0m\u001b[1;32m     75\u001b[0m         \u001b[0mscore\u001b[0m \u001b[0;34m+=\u001b[0m \u001b[0;36m10\u001b[0m\u001b[0;34m\u001b[0m\u001b[0;34m\u001b[0m\u001b[0m\n\u001b[1;32m     76\u001b[0m         \u001b[0mprint\u001b[0m\u001b[0;34m(\u001b[0m\u001b[0;34m'6번'\u001b[0m\u001b[0;34m)\u001b[0m\u001b[0;34m\u001b[0m\u001b[0;34m\u001b[0m\u001b[0m\n",
      "\u001b[0;31mIndexError\u001b[0m: list index out of range"
     ]
    }
   ],
   "source": [
    "# '''\n",
    "# Student name: Jian Lee<이지안>',\n",
    "# Student number:12184895,\n",
    "# Work number:G0402m\n",
    "# '''\n",
    "\n",
    "file_name = 'G0402m895ja.py'\n",
    "file_text = ['Student name: Jian Lee<이지안>',\n",
    " 'Student number:12184895',\n",
    " 'Work number:G0402m']\n",
    "\n",
    "\n",
    "\n",
    "# import os \n",
    "# os.path.abspath( __file__ ).split('/')[-1]\n",
    "# file_name = os.path.abspath( __file__ ).split('/')[-1]\n",
    "\n",
    "# #------------------\n",
    "# f = open(file_name, 'r')\n",
    "# file_text = []\n",
    "\n",
    "# for idx, i in enumerate(f):\n",
    "    \n",
    "#     if idx ==0: \n",
    "#         continue\n",
    "    \n",
    "#     file_text.append(i)\n",
    "    \n",
    "    \n",
    "#     if idx==4:break\n",
    "    \n",
    "# f.close()\n",
    "    \n",
    "    \n",
    "# file_text[0] = file_text[0][0:-3]\n",
    "# file_text[1] = file_text[1][:-4]\n",
    "# file_text[2] = file_text[2][:-1]\n",
    "\n",
    "file_text = file_text[:-1]\n",
    "file_name = file_name[:-3]\n",
    "#----------------------------\n",
    "\n",
    "def CheckFile():\n",
    "    score = 0\n",
    "    \n",
    "    #1 파일명이 G로 시작하는지\n",
    "    if file_name[0] == 'G':\n",
    "        score += 10\n",
    "        print('1번')\n",
    "\n",
    "    #2 파일명의 날짜부분이 옳은지 \n",
    "    if file_name[1:5] == '0402':\n",
    "        score += 10\n",
    "        print('2번')\n",
    "\n",
    "\n",
    "    #3 파일명의 끝이 영문 소문자인지\n",
    "    if file_name.split('.')[0][-1].islower():\n",
    "        score += 10\n",
    "        print('3번')\n",
    "\n",
    "\n",
    "    #4 파일명의 학번이 3자리 숫자인지\n",
    "    if file_name[-5:-2].isdigit() and len(file_name[-8:-5])==3:\n",
    "        score += 10\n",
    "        print('4번')\n",
    "\n",
    "    #5 파일명의 이름이 2개 영문 소문자인지\n",
    "    if file_name[-2:].islower() and len(file_name[-5:-3])==2:\n",
    "        score += 10\n",
    "        print('5번')\n",
    "\n",
    "    #6 \n",
    "    if file_text[2].split(':')[-1] == file_name[0:6]:\n",
    "        score += 10\n",
    "        print('6번')\n",
    "\n",
    "    #7 파일내에 적혀있는 student name의 첫번째 영문 이니셜이// 파일명의 이름과 일치하는지\n",
    "    if file_text[0].split(':')[-1].strip()[0].lower() == file_name[-2]:\n",
    "        score += 10\n",
    "        print('7번')\n",
    "\n",
    "\n",
    "    #8 파일 내에 적혀있는 student number와 파일명의 학번이 일치하는지\n",
    "    if file_text[1].split(':')[1][-3:] == file_name[-5:-2]:\n",
    "        score += 10\n",
    "        print('8번')\n",
    "\n",
    "    score += 20\n",
    "    print(score)\n",
    "\n",
    "    return score\n",
    "\n",
    "CheckFile()\n",
    "\n",
    "\n",
    "\n",
    "\n",
    "    \n",
    "    \n",
    "\n",
    "    \n",
    "\n"
   ]
  },
  {
   "cell_type": "code",
   "execution_count": null,
   "metadata": {},
   "outputs": [],
   "source": []
  }
 ],
 "metadata": {
  "kernelspec": {
   "display_name": "Python 3",
   "language": "python",
   "name": "python3"
  },
  "language_info": {
   "codemirror_mode": {
    "name": "ipython",
    "version": 3
   },
   "file_extension": ".py",
   "mimetype": "text/x-python",
   "name": "python",
   "nbconvert_exporter": "python",
   "pygments_lexer": "ipython3",
   "version": "3.7.3"
  }
 },
 "nbformat": 4,
 "nbformat_minor": 4
}
